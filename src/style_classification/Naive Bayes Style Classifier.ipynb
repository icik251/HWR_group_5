{
 "cells": [
  {
   "cell_type": "code",
   "execution_count": 6,
   "metadata": {},
   "outputs": [
    {
     "data": {
      "text/plain": [
       "2"
      ]
     },
     "execution_count": 6,
     "metadata": {},
     "output_type": "execute_result"
    }
   ],
   "source": [
    "import numpy as np\n",
    "#For a page with four handwritten letters and three possible styles\n",
    "#We get a list of four probability distributions over styles, example:\n",
    "ProbabilityMatrix = [[0.1,0.1,0.8],\n",
    "                     [0.1,0.8,0.1],\n",
    "                     [0.8,0.1,0.1],\n",
    "                     [0.1,0.1,0.8]]\n",
    "\n",
    "#Naive Bayes Classification of the handwritten page in a single line:\n",
    "np.argmax( sum( list( map( lambda x: np.log(x), ProbabilityMatrix))))"
   ]
  },
  {
   "cell_type": "code",
   "execution_count": null,
   "metadata": {},
   "outputs": [],
   "source": []
  }
 ],
 "metadata": {
  "kernelspec": {
   "display_name": "Python 3",
   "language": "python",
   "name": "python3"
  },
  "language_info": {
   "codemirror_mode": {
    "name": "ipython",
    "version": 3
   },
   "file_extension": ".py",
   "mimetype": "text/x-python",
   "name": "python",
   "nbconvert_exporter": "python",
   "pygments_lexer": "ipython3",
   "version": "3.8.5"
  }
 },
 "nbformat": 4,
 "nbformat_minor": 4
}
