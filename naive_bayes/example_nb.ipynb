{
 "cells": [
  {
   "cell_type": "code",
   "execution_count": 16,
   "metadata": {},
   "outputs": [
    {
     "name": "stdout",
     "output_type": "stream",
     "text": [
      "[[0.135, 0.135, 0.73], [0.135, 0.73, 0.135], [0.73, 0.135, 0.135], [0.135, 0.135, 0.73], [0.04999999999999999, 0.04999999999999999, 0.9000000000000001], [0.135, 0.73, 0.135], [0.73, 0.135, 0.135], [0.135, 0.135, 0.73]]\n",
      "2\n"
     ]
    }
   ],
   "source": [
    "import numpy as np\n",
    "\n",
    "# For a page with four handwritten letters and three possible styles\n",
    "# We get a list of four probability distributions over styles, example:\n",
    "ProbabilityMatrix = [\n",
    "    [0.1, 0.1, 0.8], \n",
    "    [0.1, 0.8, 0.1], \n",
    "    [0.8, 0.1, 0.1], \n",
    "    [0.1, 0.1, 0.8]]\n",
    "\n",
    "ProbabilityMatrix_2 = [\n",
    "    [0.0, 0.0, 1.0],\n",
    "    [0.1, 0.8, 0.1],\n",
    "    [0.8, 0.1, 0.1],\n",
    "    [0.1, 0.1, 0.8],\n",
    "]\n",
    "\n",
    "concat_prob_matrices = ProbabilityMatrix + ProbabilityMatrix_2\n",
    "\n",
    "linearTransform = ( lambda probability: (probability -1/3) *(1-3*0.05) +1/3 )\n",
    "\n",
    "transformed_prob_matrices = list(map( lambda x: list(map(linearTransform,x)) , concat_prob_matrices))\n",
    "\n",
    "print(transformed_prob_matrices)\n",
    "\n",
    "# Naive Bayes Classification of the handwritten page in a single line:\n",
    "print(np.argmax(sum(list(map(lambda x: np.log(x), transformed_prob_matrices)))))\n",
    "\n"
   ]
  },
  {
   "cell_type": "code",
   "execution_count": null,
   "metadata": {},
   "outputs": [],
   "source": []
  }
 ],
 "metadata": {
  "kernelspec": {
   "display_name": "Python 3",
   "language": "python",
   "name": "python3"
  },
  "language_info": {
   "codemirror_mode": {
    "name": "ipython",
    "version": 3
   },
   "file_extension": ".py",
   "mimetype": "text/x-python",
   "name": "python",
   "nbconvert_exporter": "python",
   "pygments_lexer": "ipython3",
   "version": "3.8.5"
  }
 },
 "nbformat": 4,
 "nbformat_minor": 4
}
